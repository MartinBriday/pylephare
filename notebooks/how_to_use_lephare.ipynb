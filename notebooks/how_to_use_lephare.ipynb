{
 "cells": [
  {
   "cell_type": "code",
   "execution_count": 10,
   "metadata": {},
   "outputs": [],
   "source": [
    "%matplotlib notebook\n",
    "import numpy as np\n",
    "import pandas\n",
    "import matplotlib.pyplot as plt\n",
    "import os"
   ]
  },
  {
   "cell_type": "markdown",
   "metadata": {},
   "source": [
    "Check if you installed the LePhare package."
   ]
  },
  {
   "cell_type": "code",
   "execution_count": 2,
   "metadata": {},
   "outputs": [
    {
     "name": "stderr",
     "output_type": "stream",
     "text": [
      "WARNING: AstropyDeprecationWarning: astropy.extern.six will be removed in 4.0, use the six module directly if it is still needed [astropy.extern.six]\n"
     ]
    }
   ],
   "source": [
    "from sedkcorr.sed_fitting import lephare"
   ]
  },
  {
   "cell_type": "code",
   "execution_count": 12,
   "metadata": {
    "scrolled": true
   },
   "outputs": [
    {
     "data": {
      "text/html": [
       "<div>\n",
       "<style scoped>\n",
       "    .dataframe tbody tr th:only-of-type {\n",
       "        vertical-align: middle;\n",
       "    }\n",
       "\n",
       "    .dataframe tbody tr th {\n",
       "        vertical-align: top;\n",
       "    }\n",
       "\n",
       "    .dataframe thead th {\n",
       "        text-align: right;\n",
       "    }\n",
       "</style>\n",
       "<table border=\"1\" class=\"dataframe\">\n",
       "  <thead>\n",
       "    <tr style=\"text-align: right;\">\n",
       "      <th></th>\n",
       "      <th>sdss_flux_1.5kpc_u</th>\n",
       "      <th>sdss_flux_1.5kpc_u.err</th>\n",
       "      <th>ps_flux_1.5kpc_g</th>\n",
       "      <th>ps_flux_1.5kpc_g.err</th>\n",
       "      <th>ps_flux_1.5kpc_r</th>\n",
       "      <th>ps_flux_1.5kpc_r.err</th>\n",
       "      <th>ps_flux_1.5kpc_i</th>\n",
       "      <th>ps_flux_1.5kpc_i.err</th>\n",
       "      <th>ps_flux_1.5kpc_z</th>\n",
       "      <th>ps_flux_1.5kpc_z.err</th>\n",
       "      <th>CONTEXT</th>\n",
       "      <th>Z-SPEC</th>\n",
       "      <th>STRING</th>\n",
       "    </tr>\n",
       "  </thead>\n",
       "  <tbody>\n",
       "    <tr>\n",
       "      <th>0</th>\n",
       "      <td>1.227194e-17</td>\n",
       "      <td>4.928681e-18</td>\n",
       "      <td>1.389326e-17</td>\n",
       "      <td>6.902862e-20</td>\n",
       "      <td>8.659294e-18</td>\n",
       "      <td>2.922806e-20</td>\n",
       "      <td>9.346882e-18</td>\n",
       "      <td>4.667556e-20</td>\n",
       "      <td>3.230372e-18</td>\n",
       "      <td>2.169672e-20</td>\n",
       "      <td>31</td>\n",
       "      <td>0.03185</td>\n",
       "      <td>2007aj</td>\n",
       "    </tr>\n",
       "    <tr>\n",
       "      <th>1</th>\n",
       "      <td>3.189998e-17</td>\n",
       "      <td>4.026194e-18</td>\n",
       "      <td>7.381098e-17</td>\n",
       "      <td>1.799055e-19</td>\n",
       "      <td>7.192829e-17</td>\n",
       "      <td>9.228955e-20</td>\n",
       "      <td>8.032923e-17</td>\n",
       "      <td>1.650248e-19</td>\n",
       "      <td>6.790159e-17</td>\n",
       "      <td>9.719448e-20</td>\n",
       "      <td>31</td>\n",
       "      <td>0.03509</td>\n",
       "      <td>2002G</td>\n",
       "    </tr>\n",
       "    <tr>\n",
       "      <th>2</th>\n",
       "      <td>6.248074e-16</td>\n",
       "      <td>7.136033e-18</td>\n",
       "      <td>1.801086e-15</td>\n",
       "      <td>1.164064e-18</td>\n",
       "      <td>2.002177e-15</td>\n",
       "      <td>4.736618e-19</td>\n",
       "      <td>2.109367e-15</td>\n",
       "      <td>8.014284e-19</td>\n",
       "      <td>1.743491e-15</td>\n",
       "      <td>4.585604e-19</td>\n",
       "      <td>31</td>\n",
       "      <td>0.02824</td>\n",
       "      <td>ASASSN-15la</td>\n",
       "    </tr>\n",
       "  </tbody>\n",
       "</table>\n",
       "</div>"
      ],
      "text/plain": [
       "   sdss_flux_1.5kpc_u  sdss_flux_1.5kpc_u.err  ps_flux_1.5kpc_g  \\\n",
       "0        1.227194e-17            4.928681e-18      1.389326e-17   \n",
       "1        3.189998e-17            4.026194e-18      7.381098e-17   \n",
       "2        6.248074e-16            7.136033e-18      1.801086e-15   \n",
       "\n",
       "   ps_flux_1.5kpc_g.err  ps_flux_1.5kpc_r  ps_flux_1.5kpc_r.err  \\\n",
       "0          6.902862e-20      8.659294e-18          2.922806e-20   \n",
       "1          1.799055e-19      7.192829e-17          9.228955e-20   \n",
       "2          1.164064e-18      2.002177e-15          4.736618e-19   \n",
       "\n",
       "   ps_flux_1.5kpc_i  ps_flux_1.5kpc_i.err  ps_flux_1.5kpc_z  \\\n",
       "0      9.346882e-18          4.667556e-20      3.230372e-18   \n",
       "1      8.032923e-17          1.650248e-19      6.790159e-17   \n",
       "2      2.109367e-15          8.014284e-19      1.743491e-15   \n",
       "\n",
       "   ps_flux_1.5kpc_z.err  CONTEXT   Z-SPEC       STRING  \n",
       "0          2.169672e-20       31  0.03185       2007aj  \n",
       "1          9.719448e-20       31  0.03509        2002G  \n",
       "2          4.585604e-19       31  0.02824  ASASSN-15la  "
      ]
     },
     "execution_count": 12,
     "metadata": {},
     "output_type": "execute_result"
    }
   ],
   "source": [
    "ROOT = \"../test/lephare/\"\n",
    "data_lp = pandas.read_csv(ROOT+\"data_test.csv\", sep=\" \")\n",
    "data_lp"
   ]
  },
  {
   "cell_type": "code",
   "execution_count": null,
   "metadata": {},
   "outputs": [],
   "source": []
  }
 ],
 "metadata": {
  "kernelspec": {
   "display_name": "Python 3",
   "language": "python",
   "name": "python3"
  },
  "language_info": {
   "codemirror_mode": {
    "name": "ipython",
    "version": 3
   },
   "file_extension": ".py",
   "mimetype": "text/x-python",
   "name": "python",
   "nbconvert_exporter": "python",
   "pygments_lexer": "ipython3",
   "version": "3.6.8"
  }
 },
 "nbformat": 4,
 "nbformat_minor": 2
}
