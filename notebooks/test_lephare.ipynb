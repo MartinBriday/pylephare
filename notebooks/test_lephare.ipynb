{
 "cells": [
  {
   "cell_type": "code",
   "execution_count": 1,
   "metadata": {},
   "outputs": [],
   "source": [
    "%matplotlib notebook\n",
    "import numpy as np\n",
    "import pandas\n",
    "import matplotlib.pyplot as plt\n",
    "\n",
    "from sedkcorr.sed_fitting import lephare"
   ]
  },
  {
   "cell_type": "code",
   "execution_count": 2,
   "metadata": {},
   "outputs": [
    {
     "data": {
      "text/html": [
       "<div>\n",
       "<style scoped>\n",
       "    .dataframe tbody tr th:only-of-type {\n",
       "        vertical-align: middle;\n",
       "    }\n",
       "\n",
       "    .dataframe tbody tr th {\n",
       "        vertical-align: top;\n",
       "    }\n",
       "\n",
       "    .dataframe thead th {\n",
       "        text-align: right;\n",
       "    }\n",
       "</style>\n",
       "<table border=\"1\" class=\"dataframe\">\n",
       "  <thead>\n",
       "    <tr style=\"text-align: right;\">\n",
       "      <th></th>\n",
       "      <th>mag_FUV</th>\n",
       "      <th>mag_FUV.err</th>\n",
       "      <th>mag_NUV</th>\n",
       "      <th>mag_NUV.err</th>\n",
       "      <th>mag_u</th>\n",
       "      <th>mag_u.err</th>\n",
       "      <th>mag_g</th>\n",
       "      <th>mag_g.err</th>\n",
       "      <th>mag_r</th>\n",
       "      <th>mag_r.err</th>\n",
       "      <th>mag_i</th>\n",
       "      <th>mag_i.err</th>\n",
       "      <th>mag_z</th>\n",
       "      <th>mag_z.err</th>\n",
       "      <th>CONTEXT</th>\n",
       "      <th>Z-SPEC</th>\n",
       "      <th>STRING</th>\n",
       "    </tr>\n",
       "  </thead>\n",
       "  <tbody>\n",
       "    <tr>\n",
       "      <th>0</th>\n",
       "      <td>24.349415</td>\n",
       "      <td>0.280853</td>\n",
       "      <td>23.131763</td>\n",
       "      <td>0.093115</td>\n",
       "      <td>20.913219</td>\n",
       "      <td>0.175755</td>\n",
       "      <td>19.027929</td>\n",
       "      <td>0.011213</td>\n",
       "      <td>18.131317</td>\n",
       "      <td>0.008303</td>\n",
       "      <td>17.708477</td>\n",
       "      <td>0.00851</td>\n",
       "      <td>17.381506</td>\n",
       "      <td>0.027499</td>\n",
       "      <td>127</td>\n",
       "      <td>0.058215</td>\n",
       "      <td>SN2006ob</td>\n",
       "    </tr>\n",
       "  </tbody>\n",
       "</table>\n",
       "</div>"
      ],
      "text/plain": [
       "     mag_FUV  mag_FUV.err    mag_NUV  mag_NUV.err      mag_u  mag_u.err  \\\n",
       "0  24.349415     0.280853  23.131763     0.093115  20.913219   0.175755   \n",
       "\n",
       "       mag_g  mag_g.err      mag_r  mag_r.err      mag_i  mag_i.err  \\\n",
       "0  19.027929   0.011213  18.131317   0.008303  17.708477    0.00851   \n",
       "\n",
       "       mag_z  mag_z.err  CONTEXT    Z-SPEC    STRING  \n",
       "0  17.381506   0.027499      127  0.058215  SN2006ob  "
      ]
     },
     "execution_count": 2,
     "metadata": {},
     "output_type": "execute_result"
    }
   ],
   "source": [
    "data = {\"mag_FUV\":24.34941529151189, \"mag_FUV.err\":0.2808529712437018, \"mag_NUV\":23.131763356831183,\n",
    "        \"mag_NUV.err\":0.09311475654141255, \"mag_u\":20.91321870241184, \"mag_u.err\":0.17575489046042136,\n",
    "        \"mag_g\":19.027929430034394, \"mag_g.err\":0.011213086618905521, \"mag_r\":18.131317367139847,\n",
    "        \"mag_r.err\":0.008302712573136972, \"mag_i\":17.708476613246482, \"mag_i.err\":0.008509995022562222,\n",
    "        \"mag_z\":17.381505953770187, \"mag_z.err\":0.027499037334056453, \"CONTEXT\":127, \"Z-SPEC\":0.05821464776210461,\n",
    "        \"STRING\":\"SN2006ob\"}\n",
    "\n",
    "try:\n",
    "    data_test = pandas.DataFrame(data)\n",
    "except(ValueError):\n",
    "    for k, v in data.items():\n",
    "        data[k] = [v]\n",
    "    data_test = pandas.DataFrame(data)\n",
    "data_test"
   ]
  },
  {
   "cell_type": "code",
   "execution_count": 3,
   "metadata": {},
   "outputs": [],
   "source": [
    "test = lephare.LePhareSEDFitter()"
   ]
  },
  {
   "cell_type": "code",
   "execution_count": null,
   "metadata": {},
   "outputs": [],
   "source": [
    "test.set_data(data=data, )"
   ]
  }
 ],
 "metadata": {
  "kernelspec": {
   "display_name": "Python 3",
   "language": "python",
   "name": "python3"
  },
  "language_info": {
   "codemirror_mode": {
    "name": "ipython",
    "version": 3
   },
   "file_extension": ".py",
   "mimetype": "text/x-python",
   "name": "python",
   "nbconvert_exporter": "python",
   "pygments_lexer": "ipython3",
   "version": "3.6.8"
  }
 },
 "nbformat": 4,
 "nbformat_minor": 2
}
