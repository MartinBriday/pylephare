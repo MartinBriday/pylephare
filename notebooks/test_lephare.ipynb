{
 "cells": [
  {
   "cell_type": "code",
   "execution_count": 1,
   "metadata": {},
   "outputs": [],
   "source": [
    "%matplotlib notebook\n",
    "import numpy as np\n",
    "import pandas\n",
    "import matplotlib.pyplot as plt\n",
    "\n",
    "from sedkcorr.sed_fitting import lephare"
   ]
  },
  {
   "cell_type": "code",
   "execution_count": 2,
   "metadata": {},
   "outputs": [
    {
     "data": {
      "text/html": [
       "<div>\n",
       "<style scoped>\n",
       "    .dataframe tbody tr th:only-of-type {\n",
       "        vertical-align: middle;\n",
       "    }\n",
       "\n",
       "    .dataframe tbody tr th {\n",
       "        vertical-align: top;\n",
       "    }\n",
       "\n",
       "    .dataframe thead th {\n",
       "        text-align: right;\n",
       "    }\n",
       "</style>\n",
       "<table border=\"1\" class=\"dataframe\">\n",
       "  <thead>\n",
       "    <tr style=\"text-align: right;\">\n",
       "      <th></th>\n",
       "      <th>mag_FUV</th>\n",
       "      <th>mag_FUV.err</th>\n",
       "      <th>mag_NUV</th>\n",
       "      <th>mag_NUV.err</th>\n",
       "      <th>mag_u</th>\n",
       "      <th>mag_u.err</th>\n",
       "      <th>mag_g</th>\n",
       "      <th>mag_g.err</th>\n",
       "      <th>mag_r</th>\n",
       "      <th>mag_r.err</th>\n",
       "      <th>mag_i</th>\n",
       "      <th>mag_i.err</th>\n",
       "      <th>mag_z</th>\n",
       "      <th>mag_z.err</th>\n",
       "      <th>CONTEXT</th>\n",
       "      <th>Z-SPEC</th>\n",
       "      <th>STRING</th>\n",
       "    </tr>\n",
       "  </thead>\n",
       "  <tbody>\n",
       "    <tr>\n",
       "      <th>0</th>\n",
       "      <td>24.349415</td>\n",
       "      <td>0.280853</td>\n",
       "      <td>23.131763</td>\n",
       "      <td>0.093115</td>\n",
       "      <td>20.913219</td>\n",
       "      <td>0.175755</td>\n",
       "      <td>19.027929</td>\n",
       "      <td>0.011213</td>\n",
       "      <td>18.131317</td>\n",
       "      <td>0.008303</td>\n",
       "      <td>17.708477</td>\n",
       "      <td>0.00851</td>\n",
       "      <td>17.381506</td>\n",
       "      <td>0.027499</td>\n",
       "      <td>127</td>\n",
       "      <td>0.058215</td>\n",
       "      <td>SN2006ob</td>\n",
       "    </tr>\n",
       "  </tbody>\n",
       "</table>\n",
       "</div>"
      ],
      "text/plain": [
       "     mag_FUV  mag_FUV.err    mag_NUV  mag_NUV.err      mag_u  mag_u.err  \\\n",
       "0  24.349415     0.280853  23.131763     0.093115  20.913219   0.175755   \n",
       "\n",
       "       mag_g  mag_g.err      mag_r  mag_r.err      mag_i  mag_i.err  \\\n",
       "0  19.027929   0.011213  18.131317   0.008303  17.708477    0.00851   \n",
       "\n",
       "       mag_z  mag_z.err  CONTEXT    Z-SPEC    STRING  \n",
       "0  17.381506   0.027499      127  0.058215  SN2006ob  "
      ]
     },
     "execution_count": 2,
     "metadata": {},
     "output_type": "execute_result"
    }
   ],
   "source": [
    "data = {\"mag_FUV\":24.34941529151189, \"mag_FUV.err\":0.2808529712437018, \"mag_NUV\":23.131763356831183,\n",
    "        \"mag_NUV.err\":0.09311475654141255, \"mag_u\":20.91321870241184, \"mag_u.err\":0.17575489046042136,\n",
    "        \"mag_g\":19.027929430034394, \"mag_g.err\":0.011213086618905521, \"mag_r\":18.131317367139847,\n",
    "        \"mag_r.err\":0.008302712573136972, \"mag_i\":17.708476613246482, \"mag_i.err\":0.008509995022562222,\n",
    "        \"mag_z\":17.381505953770187, \"mag_z.err\":0.027499037334056453, \"CONTEXT\":127, \"Z-SPEC\":0.05821464776210461,\n",
    "        \"STRING\":\"SN2006ob\"}\n",
    "\n",
    "try:\n",
    "    data_test = pandas.DataFrame(data)\n",
    "except(ValueError):\n",
    "    for k, v in data.items():\n",
    "        data[k] = [v]\n",
    "    data_test = pandas.DataFrame(data)\n",
    "data_test"
   ]
  },
  {
   "cell_type": "code",
   "execution_count": 3,
   "metadata": {},
   "outputs": [],
   "source": [
    "test_fit = lephare.LePhareSEDFitter()"
   ]
  },
  {
   "cell_type": "code",
   "execution_count": 4,
   "metadata": {},
   "outputs": [],
   "source": [
    "test_fit.set_data(data=data, results_path=\"/Users/mart1/Desktop/Libraries/sedkcorr/test/lephare/data.out\")"
   ]
  },
  {
   "cell_type": "code",
   "execution_count": 5,
   "metadata": {
    "scrolled": true
   },
   "outputs": [
    {
     "name": "stdout",
     "output_type": "stream",
     "text": [
      "STAR_SED : $LEPHAREDIR/sed/STAR/STAR_MOD.list (comented? : False)\n",
      "STAR_FSCALE : 3.432E-09 (comented? : False)\n",
      "STAR_LIB : LIB_STAR (comented? : False)\n",
      "QSO_SED : $LEPHAREDIR/sed/QSO/QSO_MOD.list (comented? : False)\n",
      "QSO_FSCALE : 1 (comented? : False)\n",
      "QSO_LIB : LIB_QSO (comented? : False)\n",
      "GAL_SED : $LEPHAREDIR/sed/GAL/BC03_CHAB/BC03_MOD.list (comented? : False)\n",
      "GAL_FSCALE : 1. (comented? : False)\n",
      "GAL_LIB : LIB_BC03 (comented? : False)\n",
      "SEL_AGE : $LEPHAREDIR/sed/GAL/BC03_CHAB/BC03_AGE.list (comented? : False)\n",
      "AGE_RANGE : 0.,13.55e9 (comented? : False)\n",
      "FILTER_LIST : galex/FUV.pb,galex/NUV.pb,sdss/up.pb,sdss/gp.pb,sdss/rp.pb,sdss/ip.pb,sdss/zp.pb (comented? : False)\n",
      "TRANS_TYPE : 0 (comented? : False)\n",
      "FILTER_CALIB : 0 (comented? : False)\n",
      "FILTER_FILE : galex_sdss.filt (comented? : False)\n",
      "STAR_LIB_IN : LIB_STAR (comented? : False)\n",
      "STAR_LIB_OUT : STAR (comented? : False)\n",
      "QSO_LIB_IN : LIB_QSO (comented? : False)\n",
      "QSO_LIB_OUT : QSO (comented? : False)\n",
      "GAL_LIB_IN : LIB_BC03 (comented? : False)\n",
      "GAL_LIB_OUT : BC03 (comented? : False)\n",
      "MAGTYPE : AB (comented? : False)\n",
      "Z_STEP : 0.004,0.20,0.1 (comented? : False)\n",
      "COSMOLOGY : 70,0.3,0.7 (comented? : False)\n",
      "MOD_EXTINC : 1,27 (comented? : False)\n",
      "EXTINC_LAW : LMC_Fitzpatrick.dat (comented? : False)\n",
      "EB_V : 0.0,0.05,0.1,0.15,0.2,0.25,0.3,0.35,0.4,0.45,0.5,0.6,0.7,0.8 (comented? : False)\n",
      "EM_LINES : YES (comented? : False)\n",
      "Z_FORM : 8,7,6,5,4,3 (comented? : True)\n",
      "LIB_ASCII : YES (comented? : False)\n",
      "CAT_IN : /Users/mart1/Library/Caches/Python-Eggs/sedkcorr-0.1.0-py3.6.egg-tmp/sedkcorr/sed_fitting/config/data.csv (comented? : False)\n",
      "INP_TYPE : M (comented? : False)\n",
      "CAT_MAG : AB (comented? : False)\n",
      "CAT_FMT : MEME (comented? : False)\n",
      "CAT_LINES : 1,100000 (comented? : False)\n",
      "CAT_TYPE : LONG (comented? : False)\n",
      "CAT_OUT : /Users/mart1/Desktop/Libraries/sedkcorr/test/lephare/data.out (comented? : False)\n",
      "PARA_OUT : /Users/mart1/Library/Caches/Python-Eggs/sedkcorr-0.1.0-py3.6.egg-tmp/sedkcorr/sed_fitting/config/lephare_zphot_output.para (comented? : False)\n",
      "BD_SCALE : 0 (comented? : False)\n",
      "GLB_CONTEXT : -1 (comented? : False)\n",
      "FORB_CONTEXT : -1 (comented? : True)\n",
      "ERR_SCALE : 0.052,0.026,0.05,0.02,0.02,0.02,0.03 (comented? : False)\n",
      "ERR_FACTOR : 1.0 (comented? : False)\n",
      "ZPHOTLIB : BC03,STAR,QSO (comented? : False)\n",
      "ADD_EMLINES : YES (comented? : False)\n",
      "FIR_LIB : NONE (comented? : False)\n",
      "FIR_LMIN : 7.0 (comented? : False)\n",
      "FIR_CONT : -1 (comented? : False)\n",
      "FIR_SCALE : -1 (comented? : False)\n",
      "FIR_FREESCALE : NO (comented? : False)\n",
      "FIR_SUBSTELLAR : NO (comented? : False)\n",
      "PHYS_LIB : NONE (comented? : False)\n",
      "PHYS_CONT : -1 (comented? : False)\n",
      "PHYS_SCALE : -1 (comented? : False)\n",
      "PHYS_NMAX : 100000 (comented? : False)\n",
      "MASS_SCALE : 6.,16. (comented? : False)\n",
      "MAG_ABS : -10.,-26. (comented? : False)\n",
      "MAG_REF : 6 (comented? : False)\n",
      "ZFORM_MIN : 5,5,5,5,5,5,3,1 (comented? : True)\n",
      "Z_RANGE : 0,0.20 (comented? : False)\n",
      "EBV_RANGE : 0,1.0 (comented? : False)\n",
      "NZ_PRIOR : 4,2,4 (comented? : True)\n",
      "ZFIX : YES (comented? : False)\n",
      "Z_INTERP : NO (comented? : False)\n",
      "DZ_WIN : 0.25 (comented? : False)\n",
      "MIN_THRES : 0.1 (comented? : False)\n",
      "PROB_INTZ : 0,0.5,0.5,1.,1.,1.5 (comented? : True)\n",
      "MABS_METHOD : 1 (comented? : False)\n",
      "MABS_CONTEXT : -1 (comented? : False)\n",
      "MABS_REF : 4 (comented? : False)\n",
      "MABS_FILT : 3,4,5,6 (comented? : False)\n",
      "MABS_ZBIN : 0,0.5,1,1.5,2,3,3.5,4 (comented? : False)\n",
      "SPEC_OUT : YES (comented? : False)\n",
      "CHI2_OUT : NO (comented? : False)\n",
      "PDZ_OUT : NONE (comented? : False)\n",
      "PDZ_MABS_FILT : 2,10,14 (comented? : True)\n",
      "FAST_MODE : NO (comented? : False)\n",
      "COL_NUM : 3 (comented? : False)\n",
      "COL_SIGMA : 3 (comented? : False)\n",
      "COL_SEL : AND (comented? : False)\n",
      "APPLY_SYSSHIFT : 0.007,-0.001,0.001,-0.003,0.006 (comented? : True)\n",
      "AUTO_ADAPT : NO (comented? : False)\n",
      "ADAPT_BAND : 4,2,4 (comented? : False)\n",
      "ADAPT_LIM : 10,22.0 (comented? : False)\n",
      "ADAPT_POLY : 1 (comented? : False)\n",
      "ADAPT_METH : 1 (comented? : False)\n",
      "ADAPT_CONTEXT : -1 (comented? : False)\n",
      "ADAPT_ZBIN : 0.01,0.1 (comented? : False)\n",
      "ADAPT_MODBIN : 1,1000 (comented? : False)\n",
      "ERROR_ADAPT : NO (comented? : False)\n"
     ]
    }
   ],
   "source": [
    "test_fit.describe_params(\"input\")"
   ]
  },
  {
   "cell_type": "code",
   "execution_count": 6,
   "metadata": {},
   "outputs": [],
   "source": [
    "test_fit.run_filter()"
   ]
  },
  {
   "cell_type": "code",
   "execution_count": 7,
   "metadata": {},
   "outputs": [],
   "source": [
    "test_fit.run_sedtolib()"
   ]
  },
  {
   "cell_type": "code",
   "execution_count": 8,
   "metadata": {},
   "outputs": [],
   "source": [
    "test_fit.run_mag_star()"
   ]
  },
  {
   "cell_type": "code",
   "execution_count": 9,
   "metadata": {},
   "outputs": [],
   "source": [
    "test_fit.run_mag_gal()"
   ]
  },
  {
   "cell_type": "code",
   "execution_count": 10,
   "metadata": {},
   "outputs": [],
   "source": [
    "test_fit.run_zphota()"
   ]
  },
  {
   "cell_type": "code",
   "execution_count": 11,
   "metadata": {},
   "outputs": [
    {
     "name": "stderr",
     "output_type": "stream",
     "text": [
      "WARNING: AstropyDeprecationWarning: astropy.extern.six will be removed in 4.0, use the six module directly if it is still needed [astropy.extern.six]\n"
     ]
    }
   ],
   "source": [
    "from sedkcorr.k_correction import sed_lephare"
   ]
  },
  {
   "cell_type": "code",
   "execution_count": 12,
   "metadata": {},
   "outputs": [],
   "source": [
    "test_sed = sed_lephare.SED_LePhare()"
   ]
  },
  {
   "cell_type": "code",
   "execution_count": 13,
   "metadata": {},
   "outputs": [
    {
     "data": {
      "text/html": [
       "<div>\n",
       "<style scoped>\n",
       "    .dataframe tbody tr th:only-of-type {\n",
       "        vertical-align: middle;\n",
       "    }\n",
       "\n",
       "    .dataframe tbody tr th {\n",
       "        vertical-align: top;\n",
       "    }\n",
       "\n",
       "    .dataframe thead th {\n",
       "        text-align: right;\n",
       "    }\n",
       "</style>\n",
       "<table border=\"1\" class=\"dataframe\">\n",
       "  <thead>\n",
       "    <tr style=\"text-align: right;\">\n",
       "      <th></th>\n",
       "      <th>IDENT</th>\n",
       "      <th>Z_BEST</th>\n",
       "      <th>CHI_BEST</th>\n",
       "      <th>MOD_BEST</th>\n",
       "      <th>EXTLAW_BEST</th>\n",
       "      <th>EBV_BEST</th>\n",
       "      <th>DIST_MOD_BEST</th>\n",
       "      <th>NBAND_USED</th>\n",
       "      <th>Z_SEC</th>\n",
       "      <th>CHI_SEC</th>\n",
       "      <th>...</th>\n",
       "      <th>MASS_MED</th>\n",
       "      <th>MASS_SUP</th>\n",
       "      <th>SFR_BEST</th>\n",
       "      <th>SFR_INF</th>\n",
       "      <th>SFR_MED</th>\n",
       "      <th>SFR_SUP</th>\n",
       "      <th>SSFR_BEST</th>\n",
       "      <th>SSFR_INF</th>\n",
       "      <th>SSFR_MED</th>\n",
       "      <th>SSFR_SUP</th>\n",
       "    </tr>\n",
       "  </thead>\n",
       "  <tbody>\n",
       "    <tr>\n",
       "      <th>0</th>\n",
       "      <td>0</td>\n",
       "      <td>0.0582</td>\n",
       "      <td>11.3499</td>\n",
       "      <td>3</td>\n",
       "      <td>1</td>\n",
       "      <td>0.15</td>\n",
       "      <td>37.0792</td>\n",
       "      <td>7</td>\n",
       "      <td>-99.0</td>\n",
       "      <td>1.000000e+09</td>\n",
       "      <td>...</td>\n",
       "      <td>9.74698</td>\n",
       "      <td>9.79652</td>\n",
       "      <td>-2.01089</td>\n",
       "      <td>-2.05734</td>\n",
       "      <td>-1.94603</td>\n",
       "      <td>-1.75882</td>\n",
       "      <td>-11.7536</td>\n",
       "      <td>-11.8568</td>\n",
       "      <td>-11.7395</td>\n",
       "      <td>-11.4804</td>\n",
       "    </tr>\n",
       "  </tbody>\n",
       "</table>\n",
       "<p>1 rows × 73 columns</p>\n",
       "</div>"
      ],
      "text/plain": [
       "   IDENT  Z_BEST  CHI_BEST  MOD_BEST  EXTLAW_BEST  EBV_BEST  DIST_MOD_BEST  \\\n",
       "0      0  0.0582   11.3499         3            1      0.15        37.0792   \n",
       "\n",
       "   NBAND_USED  Z_SEC       CHI_SEC  ...  MASS_MED  MASS_SUP  SFR_BEST  \\\n",
       "0           7  -99.0  1.000000e+09  ...   9.74698   9.79652  -2.01089   \n",
       "\n",
       "   SFR_INF  SFR_MED  SFR_SUP  SSFR_BEST  SSFR_INF  SSFR_MED  SSFR_SUP  \n",
       "0 -2.05734 -1.94603 -1.75882   -11.7536  -11.8568  -11.7395  -11.4804  \n",
       "\n",
       "[1 rows x 73 columns]"
      ]
     },
     "execution_count": 13,
     "metadata": {},
     "output_type": "execute_result"
    }
   ],
   "source": [
    "_, fit_res_file, _ = test_fit._get_param_details_(\"CAT_OUT\")\n",
    "data_out = sed_lephare.lephare_output_file_reader(fit_res_file, [\"FUV\", \"NUV\", \"u\", \"g\", \"r\", \"i\", \"z\"])\n",
    "data_out"
   ]
  },
  {
   "cell_type": "code",
   "execution_count": 14,
   "metadata": {},
   "outputs": [
    {
     "name": "stderr",
     "output_type": "stream",
     "text": [
      "/anaconda3/lib/python3.6/site-packages/sedkcorr-0.1.0-py3.6.egg/sedkcorr/k_correction/sed_lephare.py:103: FutureWarning: read_table is deprecated, use read_csv instead.\n"
     ]
    },
    {
     "ename": "TypeError",
     "evalue": "unsupported operand type(s) for *: 'numpy.ndarray' and 'Unit'",
     "output_type": "error",
     "traceback": [
      "\u001b[0;31m---------------------------------------------------------------------------\u001b[0m",
      "\u001b[0;31mTypeError\u001b[0m                                 Traceback (most recent call last)",
      "\u001b[0;32m<ipython-input-14-6dd3c46a6968>\u001b[0m in \u001b[0;36m<module>\u001b[0;34m\u001b[0m\n\u001b[1;32m      1\u001b[0m test_sed.set_data(sed_index=0, sed_dir=\"/Users/mart1/Desktop/Libraries/sedkcorr/test/lephare/\", \n\u001b[0;32m----> 2\u001b[0;31m                   data_meas=data_test, col_syntax=[\"mag_band\", \"mag_band.err\"])\n\u001b[0m",
      "\u001b[0;32m/anaconda3/lib/python3.6/site-packages/sedkcorr-0.1.0-py3.6.egg/sedkcorr/k_correction/basesed.py\u001b[0m in \u001b[0;36mset_data\u001b[0;34m(self, **kwargs)\u001b[0m\n\u001b[1;32m    317\u001b[0m         \u001b[0mVoid\u001b[0m\u001b[0;34m\u001b[0m\u001b[0;34m\u001b[0m\u001b[0m\n\u001b[1;32m    318\u001b[0m         \"\"\"\n\u001b[0;32m--> 319\u001b[0;31m         \u001b[0mself\u001b[0m\u001b[0;34m.\u001b[0m\u001b[0mset_data_sed\u001b[0m\u001b[0;34m(\u001b[0m\u001b[0;34m**\u001b[0m\u001b[0mkwargs\u001b[0m\u001b[0;34m)\u001b[0m\u001b[0;34m\u001b[0m\u001b[0;34m\u001b[0m\u001b[0m\n\u001b[0m\u001b[1;32m    320\u001b[0m         \u001b[0mself\u001b[0m\u001b[0;34m.\u001b[0m\u001b[0mset_data_meas\u001b[0m\u001b[0;34m(\u001b[0m\u001b[0;34m**\u001b[0m\u001b[0mkwargs\u001b[0m\u001b[0;34m)\u001b[0m\u001b[0;34m\u001b[0m\u001b[0;34m\u001b[0m\u001b[0m\n\u001b[1;32m    321\u001b[0m \u001b[0;34m\u001b[0m\u001b[0m\n",
      "\u001b[0;32m/anaconda3/lib/python3.6/site-packages/sedkcorr-0.1.0-py3.6.egg/sedkcorr/k_correction/sed_lephare.py\u001b[0m in \u001b[0;36mset_data_sed\u001b[0;34m(self, data_sed, sed_index, sed_dir, nrows, **kwargs)\u001b[0m\n\u001b[1;32m    108\u001b[0m \u001b[0;34m\u001b[0m\u001b[0m\n\u001b[1;32m    109\u001b[0m         \u001b[0mdata_sed\u001b[0m\u001b[0;34m[\u001b[0m\u001b[0;34m\"mag.err\"\u001b[0m\u001b[0;34m]\u001b[0m \u001b[0;34m=\u001b[0m \u001b[0mnp\u001b[0m\u001b[0;34m.\u001b[0m\u001b[0mzeros\u001b[0m\u001b[0;34m(\u001b[0m\u001b[0mlen\u001b[0m\u001b[0;34m(\u001b[0m\u001b[0mdata_sed\u001b[0m\u001b[0;34m)\u001b[0m\u001b[0;34m)\u001b[0m\u001b[0;34m\u001b[0m\u001b[0;34m\u001b[0m\u001b[0m\n\u001b[0;32m--> 110\u001b[0;31m         \u001b[0m_\u001b[0m \u001b[0;34m=\u001b[0m \u001b[0msuper\u001b[0m\u001b[0;34m(\u001b[0m\u001b[0mSED_LePhare\u001b[0m\u001b[0;34m,\u001b[0m \u001b[0mself\u001b[0m\u001b[0;34m)\u001b[0m\u001b[0;34m.\u001b[0m\u001b[0mset_data_sed\u001b[0m\u001b[0;34m(\u001b[0m \u001b[0mdata_sed\u001b[0m \u001b[0;34m)\u001b[0m\u001b[0;34m\u001b[0m\u001b[0;34m\u001b[0m\u001b[0m\n\u001b[0m\u001b[1;32m    111\u001b[0m \u001b[0;34m\u001b[0m\u001b[0m\n\u001b[1;32m    112\u001b[0m     \u001b[0;32mdef\u001b[0m \u001b[0mcontext_filters\u001b[0m\u001b[0;34m(\u001b[0m\u001b[0mself\u001b[0m\u001b[0;34m,\u001b[0m \u001b[0mcontext\u001b[0m\u001b[0;34m)\u001b[0m\u001b[0;34m:\u001b[0m\u001b[0;34m\u001b[0m\u001b[0;34m\u001b[0m\u001b[0m\n",
      "\u001b[0;32m/anaconda3/lib/python3.6/site-packages/sedkcorr-0.1.0-py3.6.egg/sedkcorr/k_correction/basesed.py\u001b[0m in \u001b[0;36mset_data_sed\u001b[0;34m(self, data_sed, **extras)\u001b[0m\n\u001b[1;32m    343\u001b[0m \u001b[0;34m\u001b[0m\u001b[0m\n\u001b[1;32m    344\u001b[0m         \u001b[0;32mif\u001b[0m \u001b[0;34m\"mag\"\u001b[0m \u001b[0;32min\u001b[0m \u001b[0mself\u001b[0m\u001b[0;34m.\u001b[0m\u001b[0mdata_sed\u001b[0m\u001b[0;34m.\u001b[0m\u001b[0mkeys\u001b[0m\u001b[0;34m(\u001b[0m\u001b[0;34m)\u001b[0m \u001b[0;32mand\u001b[0m \u001b[0;34m\"flux\"\u001b[0m \u001b[0;32mnot\u001b[0m \u001b[0;32min\u001b[0m \u001b[0mself\u001b[0m\u001b[0;34m.\u001b[0m\u001b[0mdata_sed\u001b[0m\u001b[0;34m.\u001b[0m\u001b[0mkeys\u001b[0m\u001b[0;34m(\u001b[0m\u001b[0;34m)\u001b[0m\u001b[0;34m:\u001b[0m\u001b[0;34m\u001b[0m\u001b[0;34m\u001b[0m\u001b[0m\n\u001b[0;32m--> 345\u001b[0;31m             \u001b[0mself\u001b[0m\u001b[0;34m.\u001b[0m\u001b[0mdata_sed\u001b[0m\u001b[0;34m[\u001b[0m\u001b[0;34m\"flux\"\u001b[0m\u001b[0;34m]\u001b[0m\u001b[0;34m,\u001b[0m \u001b[0mself\u001b[0m\u001b[0;34m.\u001b[0m\u001b[0mdata_sed\u001b[0m\u001b[0;34m[\u001b[0m\u001b[0;34m\"flux.err\"\u001b[0m\u001b[0;34m]\u001b[0m \u001b[0;34m=\u001b[0m \u001b[0mmag_to_flux\u001b[0m\u001b[0;34m(\u001b[0m\u001b[0mself\u001b[0m\u001b[0;34m.\u001b[0m\u001b[0mdata_sed\u001b[0m\u001b[0;34m[\u001b[0m\u001b[0;34m\"mag\"\u001b[0m\u001b[0;34m]\u001b[0m\u001b[0;34m,\u001b[0m \u001b[0mself\u001b[0m\u001b[0;34m.\u001b[0m\u001b[0mdata_sed\u001b[0m\u001b[0;34m[\u001b[0m\u001b[0;34m\"mag.err\"\u001b[0m\u001b[0;34m]\u001b[0m\u001b[0;34m,\u001b[0m \u001b[0mband\u001b[0m\u001b[0;34m=\u001b[0m\u001b[0;32mNone\u001b[0m\u001b[0;34m,\u001b[0m \u001b[0mflux_unit\u001b[0m\u001b[0;34m=\u001b[0m\u001b[0;34m\"Hz\"\u001b[0m\u001b[0;34m,\u001b[0m \u001b[0mopt_mAB0\u001b[0m\u001b[0;34m=\u001b[0m\u001b[0;32mFalse\u001b[0m\u001b[0;34m)\u001b[0m\u001b[0;34m\u001b[0m\u001b[0;34m\u001b[0m\u001b[0m\n\u001b[0m\u001b[1;32m    346\u001b[0m         \u001b[0;32melif\u001b[0m \u001b[0;34m\"flux\"\u001b[0m \u001b[0;32min\u001b[0m \u001b[0mself\u001b[0m\u001b[0;34m.\u001b[0m\u001b[0mdata_sed\u001b[0m\u001b[0;34m.\u001b[0m\u001b[0mkeys\u001b[0m\u001b[0;34m(\u001b[0m\u001b[0;34m)\u001b[0m \u001b[0;32mand\u001b[0m \u001b[0;34m\"mag\"\u001b[0m \u001b[0;32mnot\u001b[0m \u001b[0;32min\u001b[0m \u001b[0mself\u001b[0m\u001b[0;34m.\u001b[0m\u001b[0mdata_sed\u001b[0m\u001b[0;34m.\u001b[0m\u001b[0mkeys\u001b[0m\u001b[0;34m(\u001b[0m\u001b[0;34m)\u001b[0m\u001b[0;34m:\u001b[0m\u001b[0;34m\u001b[0m\u001b[0;34m\u001b[0m\u001b[0m\n\u001b[1;32m    347\u001b[0m             \u001b[0mself\u001b[0m\u001b[0;34m.\u001b[0m\u001b[0mdata_sed\u001b[0m\u001b[0;34m[\u001b[0m\u001b[0;34m\"mag\"\u001b[0m\u001b[0;34m]\u001b[0m\u001b[0;34m,\u001b[0m \u001b[0mself\u001b[0m\u001b[0;34m.\u001b[0m\u001b[0mdata_sed\u001b[0m\u001b[0;34m[\u001b[0m\u001b[0;34m\"mag.err\"\u001b[0m\u001b[0;34m]\u001b[0m \u001b[0;34m=\u001b[0m \u001b[0mflux_to_mag\u001b[0m\u001b[0;34m(\u001b[0m\u001b[0mself\u001b[0m\u001b[0;34m.\u001b[0m\u001b[0mdata_sed\u001b[0m\u001b[0;34m[\u001b[0m\u001b[0;34m\"flux\"\u001b[0m\u001b[0;34m]\u001b[0m\u001b[0;34m,\u001b[0m \u001b[0mself\u001b[0m\u001b[0;34m.\u001b[0m\u001b[0mdata_sed\u001b[0m\u001b[0;34m[\u001b[0m\u001b[0;34m\"flux.err\"\u001b[0m\u001b[0;34m]\u001b[0m\u001b[0;34m,\u001b[0m \u001b[0mband\u001b[0m\u001b[0;34m=\u001b[0m\u001b[0;32mNone\u001b[0m\u001b[0;34m,\u001b[0m \u001b[0mflux_unit\u001b[0m\u001b[0;34m=\u001b[0m\u001b[0;34m\"Hz\"\u001b[0m\u001b[0;34m,\u001b[0m \u001b[0mopt_mAB0\u001b[0m\u001b[0;34m=\u001b[0m\u001b[0;32mFalse\u001b[0m\u001b[0;34m)\u001b[0m\u001b[0;34m\u001b[0m\u001b[0;34m\u001b[0m\u001b[0m\n",
      "\u001b[0;32m/anaconda3/lib/python3.6/site-packages/sedkcorr-0.1.0-py3.6.egg/sedkcorr/k_correction/basesed.py\u001b[0m in \u001b[0;36mmag_to_flux\u001b[0;34m(mag, mag_err, band, flux_unit, opt_mAB0)\u001b[0m\n\u001b[1;32m    141\u001b[0m \u001b[0;34m\u001b[0m\u001b[0m\n\u001b[1;32m    142\u001b[0m     \u001b[0;32mif\u001b[0m \u001b[0mflux_unit\u001b[0m \u001b[0;32min\u001b[0m \u001b[0;34m(\u001b[0m\u001b[0;34m\"AA\"\u001b[0m\u001b[0;34m,\u001b[0m \u001b[0;34m\"Hz\"\u001b[0m\u001b[0;34m,\u001b[0m \u001b[0;34m\"mgy\"\u001b[0m\u001b[0;34m)\u001b[0m\u001b[0;34m:\u001b[0m\u001b[0;34m\u001b[0m\u001b[0;34m\u001b[0m\u001b[0m\n\u001b[0;32m--> 143\u001b[0;31m         \u001b[0mflux_out\u001b[0m\u001b[0;34m,\u001b[0m \u001b[0mflux_err_out\u001b[0m \u001b[0;34m=\u001b[0m \u001b[0mconvert_flux_unit\u001b[0m\u001b[0;34m(\u001b[0m\u001b[0;34m(\u001b[0m\u001b[0mflux_out\u001b[0m\u001b[0;34m,\u001b[0m \u001b[0mflux_err_out\u001b[0m\u001b[0;34m)\u001b[0m\u001b[0;34m,\u001b[0m \u001b[0mFILTER_BANDS\u001b[0m\u001b[0;34m[\u001b[0m\u001b[0mband\u001b[0m\u001b[0;34m]\u001b[0m\u001b[0;34m[\u001b[0m\u001b[0;34m\"lbda\"\u001b[0m\u001b[0;34m]\u001b[0m \u001b[0;32mif\u001b[0m \u001b[0mtype\u001b[0m\u001b[0;34m(\u001b[0m\u001b[0mband\u001b[0m\u001b[0;34m)\u001b[0m\u001b[0;34m==\u001b[0m\u001b[0mstr\u001b[0m \u001b[0;32melse\u001b[0m \u001b[0mband\u001b[0m\u001b[0;34m,\u001b[0m \u001b[0munit_in\u001b[0m\u001b[0;34m=\u001b[0m\u001b[0munit_in\u001b[0m\u001b[0;34m,\u001b[0m \u001b[0munit_out\u001b[0m\u001b[0;34m=\u001b[0m\u001b[0mflux_unit\u001b[0m\u001b[0;34m)\u001b[0m\u001b[0;34m\u001b[0m\u001b[0;34m\u001b[0m\u001b[0m\n\u001b[0m\u001b[1;32m    144\u001b[0m     \u001b[0;32melse\u001b[0m\u001b[0;34m:\u001b[0m\u001b[0;34m\u001b[0m\u001b[0;34m\u001b[0m\u001b[0m\n\u001b[1;32m    145\u001b[0m         \u001b[0;32mraise\u001b[0m \u001b[0mValueError\u001b[0m\u001b[0;34m(\u001b[0m\u001b[0;34m\"{} is not a valid flux unit.\"\u001b[0m\u001b[0;34m.\u001b[0m\u001b[0mformat\u001b[0m\u001b[0;34m(\u001b[0m\u001b[0mflux_unit\u001b[0m\u001b[0;34m)\u001b[0m\u001b[0;34m)\u001b[0m\u001b[0;34m\u001b[0m\u001b[0;34m\u001b[0m\u001b[0m\n",
      "\u001b[0;32m/anaconda3/lib/python3.6/site-packages/sedkcorr-0.1.0-py3.6.egg/sedkcorr/k_correction/basesed.py\u001b[0m in \u001b[0;36mconvert_flux_unit\u001b[0;34m(flux, lbda, unit_in, unit_out)\u001b[0m\n\u001b[1;32m    228\u001b[0m     \u001b[0mflux\u001b[0m \u001b[0;34m=\u001b[0m \u001b[0mnp\u001b[0m\u001b[0;34m.\u001b[0m\u001b[0masarray\u001b[0m\u001b[0;34m(\u001b[0m\u001b[0mflux\u001b[0m\u001b[0;34m)\u001b[0m \u001b[0;32mif\u001b[0m \u001b[0mtype\u001b[0m\u001b[0;34m(\u001b[0m\u001b[0mflux\u001b[0m\u001b[0;34m)\u001b[0m \u001b[0;34m!=\u001b[0m \u001b[0mfloat\u001b[0m \u001b[0;32melse\u001b[0m \u001b[0mflux\u001b[0m\u001b[0;34m\u001b[0m\u001b[0;34m\u001b[0m\u001b[0m\n\u001b[1;32m    229\u001b[0m     \u001b[0mlbda\u001b[0m \u001b[0;34m=\u001b[0m \u001b[0mnp\u001b[0m\u001b[0;34m.\u001b[0m\u001b[0masarray\u001b[0m\u001b[0;34m(\u001b[0m\u001b[0mlbda\u001b[0m\u001b[0;34m)\u001b[0m \u001b[0;32mif\u001b[0m \u001b[0mtype\u001b[0m\u001b[0;34m(\u001b[0m\u001b[0mlbda\u001b[0m\u001b[0;34m)\u001b[0m \u001b[0;34m!=\u001b[0m \u001b[0mfloat\u001b[0m \u001b[0;32melse\u001b[0m \u001b[0mlbda\u001b[0m\u001b[0;34m\u001b[0m\u001b[0;34m\u001b[0m\u001b[0m\n\u001b[0;32m--> 230\u001b[0;31m     \u001b[0mequiv\u001b[0m \u001b[0;34m=\u001b[0m \u001b[0munits\u001b[0m\u001b[0;34m.\u001b[0m\u001b[0mspectral_density\u001b[0m\u001b[0;34m(\u001b[0m\u001b[0mlbda\u001b[0m \u001b[0;34m*\u001b[0m \u001b[0munits\u001b[0m\u001b[0;34m.\u001b[0m\u001b[0mAA\u001b[0m\u001b[0;34m)\u001b[0m\u001b[0;34m\u001b[0m\u001b[0;34m\u001b[0m\u001b[0m\n\u001b[0m\u001b[1;32m    231\u001b[0m     \u001b[0;32mif\u001b[0m \u001b[0munit_in\u001b[0m \u001b[0;32mnot\u001b[0m \u001b[0;32min\u001b[0m \u001b[0;34m(\u001b[0m\u001b[0;34m\"Hz\"\u001b[0m\u001b[0;34m,\u001b[0m \u001b[0;34m\"AA\"\u001b[0m\u001b[0;34m,\u001b[0m \u001b[0;34m\"mgy\"\u001b[0m\u001b[0;34m)\u001b[0m\u001b[0;34m:\u001b[0m\u001b[0;34m\u001b[0m\u001b[0;34m\u001b[0m\u001b[0m\n\u001b[1;32m    232\u001b[0m         \u001b[0;32mraise\u001b[0m \u001b[0mValueError\u001b[0m\u001b[0;34m(\u001b[0m\u001b[0;34m\"{} is not a valid flux unit.\"\u001b[0m\u001b[0;34m.\u001b[0m\u001b[0mformat\u001b[0m\u001b[0;34m(\u001b[0m\u001b[0munit_in\u001b[0m\u001b[0;34m)\u001b[0m\u001b[0;34m)\u001b[0m\u001b[0;34m\u001b[0m\u001b[0;34m\u001b[0m\u001b[0m\n",
      "\u001b[0;31mTypeError\u001b[0m: unsupported operand type(s) for *: 'numpy.ndarray' and 'Unit'"
     ]
    }
   ],
   "source": [
    "test_sed.set_data(sed_index=0, sed_dir=\"/Users/mart1/Desktop/Libraries/sedkcorr/test/lephare/\", \n",
    "                  data_meas=data_test, col_syntax=[\"mag_band\", \"mag_band.err\"])"
   ]
  },
  {
   "cell_type": "code",
   "execution_count": null,
   "metadata": {},
   "outputs": [],
   "source": [
    "#test_sed.show(y_plot=\"flux\", sed_shifted=False, plot_bandpasses=False, plot_filter_points=True, \n",
    "#              xlim=(1000, 11000), ylim=(1e-17, 5e-16), savefile=None, xscale=\"log\", yscale=\"log\", \n",
    "#              flux_unit=\"AA\")"
   ]
  },
  {
   "cell_type": "code",
   "execution_count": null,
   "metadata": {},
   "outputs": [],
   "source": []
  }
 ],
 "metadata": {
  "kernelspec": {
   "display_name": "Python 3",
   "language": "python",
   "name": "python3"
  },
  "language_info": {
   "codemirror_mode": {
    "name": "ipython",
    "version": 3
   },
   "file_extension": ".py",
   "mimetype": "text/x-python",
   "name": "python",
   "nbconvert_exporter": "python",
   "pygments_lexer": "ipython3",
   "version": "3.6.8"
  }
 },
 "nbformat": 4,
 "nbformat_minor": 2
}
